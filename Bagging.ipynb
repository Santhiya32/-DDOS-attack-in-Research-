{
  "nbformat": 4,
  "nbformat_minor": 0,
  "metadata": {
    "colab": {
      "provenance": []
    },
    "kernelspec": {
      "name": "python3",
      "display_name": "Python 3"
    },
    "language_info": {
      "name": "python"
    }
  },
  "cells": [
    {
      "cell_type": "markdown",
      "source": [
        "Importing packages"
      ],
      "metadata": {
        "id": "6sK8PMgJGJZ6"
      }
    },
    {
      "cell_type": "code",
      "source": [
        "import numpy as np\n",
        "import pandas as pd"
      ],
      "metadata": {
        "id": "Usq2Faawbuph"
      },
      "execution_count": null,
      "outputs": []
    },
    {
      "cell_type": "markdown",
      "source": [
        "Reading the dataset content path from drive"
      ],
      "metadata": {
        "id": "cclu-pgaENlu"
      }
    },
    {
      "cell_type": "code",
      "source": [
        "var = pd.read_csv(\"/content/drive/MyDrive/Main project/DDOSDataset.csv\")"
      ],
      "metadata": {
        "id": "5phAA2QKbxrm"
      },
      "execution_count": null,
      "outputs": []
    },
    {
      "cell_type": "code",
      "source": [
        "var"
      ],
      "metadata": {
        "colab": {
          "base_uri": "https://localhost:8080/",
          "height": 540
        },
        "id": "OgnnYgYhbzve",
        "outputId": "14eded97-925e-4d26-d77d-505e3206393c"
      },
      "execution_count": null,
      "outputs": [
        {
          "output_type": "execute_result",
          "data": {
            "text/plain": [
              "      Unnamed: 0   Source Port   Destination Port   Protocol   Flow Duration  \\\n",
              "0            534           710              63567         17               2   \n",
              "1          11527           711              23076         17               2   \n",
              "2          19475           712              63593         17               1   \n",
              "3          17750           713              60908         17               2   \n",
              "4          26849           714              17757         17               1   \n",
              "...          ...           ...                ...        ...             ...   \n",
              "3994       28562           714              55976         17               1   \n",
              "3995         984           715              32474         17               2   \n",
              "3996       10843           716              14574         17               1   \n",
              "3997       29634           717              63039         17               1   \n",
              "3998        7903           718               2242         17               1   \n",
              "\n",
              "       Total Fwd Packets  Total Length of Fwd Packets   Min Packet Length  \\\n",
              "0                      2                         1136                 568   \n",
              "1                      2                         2944                1472   \n",
              "2                      2                         2944                1472   \n",
              "3                      2                         2944                1472   \n",
              "4                      2                         2944                1472   \n",
              "...                  ...                          ...                 ...   \n",
              "3994                   2                         2944                1472   \n",
              "3995                   2                         2944                1472   \n",
              "3996                   2                         2944                1472   \n",
              "3997                   2                         2944                1472   \n",
              "3998                   2                         2944                1472   \n",
              "\n",
              "       Max Packet Length   Average Packet Size   act_data_pkt_fwd  \\\n",
              "0                    568                 852.0                  1   \n",
              "1                   1472                2208.0                  1   \n",
              "2                   1472                2208.0                  1   \n",
              "3                   1472                2208.0                  1   \n",
              "4                   1472                2208.0                  1   \n",
              "...                  ...                   ...                ...   \n",
              "3994                1472                2208.0                  1   \n",
              "3995                1472                2208.0                  1   \n",
              "3996                1472                2208.0                  1   \n",
              "3997                1472                2208.0                  1   \n",
              "3998                1472                2208.0                  1   \n",
              "\n",
              "       min_seg_size_forward Attack_type  \n",
              "0                        32   DrDoS_DNS  \n",
              "1                        32   DrDoS_DNS  \n",
              "2                        32   DrDoS_DNS  \n",
              "3                        32   DrDoS_DNS  \n",
              "4                        32   DrDoS_DNS  \n",
              "...                     ...         ...  \n",
              "3994                    595  DrDoS_LDAP  \n",
              "3995                    595  DrDoS_LDAP  \n",
              "3996                    595  DrDoS_LDAP  \n",
              "3997                    595  DrDoS_LDAP  \n",
              "3998                    595  DrDoS_LDAP  \n",
              "\n",
              "[3999 rows x 13 columns]"
            ],
            "text/html": [
              "\n",
              "  <div id=\"df-19ce594d-6364-4992-92f5-2258d37dc529\">\n",
              "    <div class=\"colab-df-container\">\n",
              "      <div>\n",
              "<style scoped>\n",
              "    .dataframe tbody tr th:only-of-type {\n",
              "        vertical-align: middle;\n",
              "    }\n",
              "\n",
              "    .dataframe tbody tr th {\n",
              "        vertical-align: top;\n",
              "    }\n",
              "\n",
              "    .dataframe thead th {\n",
              "        text-align: right;\n",
              "    }\n",
              "</style>\n",
              "<table border=\"1\" class=\"dataframe\">\n",
              "  <thead>\n",
              "    <tr style=\"text-align: right;\">\n",
              "      <th></th>\n",
              "      <th>Unnamed: 0</th>\n",
              "      <th>Source Port</th>\n",
              "      <th>Destination Port</th>\n",
              "      <th>Protocol</th>\n",
              "      <th>Flow Duration</th>\n",
              "      <th>Total Fwd Packets</th>\n",
              "      <th>Total Length of Fwd Packets</th>\n",
              "      <th>Min Packet Length</th>\n",
              "      <th>Max Packet Length</th>\n",
              "      <th>Average Packet Size</th>\n",
              "      <th>act_data_pkt_fwd</th>\n",
              "      <th>min_seg_size_forward</th>\n",
              "      <th>Attack_type</th>\n",
              "    </tr>\n",
              "  </thead>\n",
              "  <tbody>\n",
              "    <tr>\n",
              "      <th>0</th>\n",
              "      <td>534</td>\n",
              "      <td>710</td>\n",
              "      <td>63567</td>\n",
              "      <td>17</td>\n",
              "      <td>2</td>\n",
              "      <td>2</td>\n",
              "      <td>1136</td>\n",
              "      <td>568</td>\n",
              "      <td>568</td>\n",
              "      <td>852.0</td>\n",
              "      <td>1</td>\n",
              "      <td>32</td>\n",
              "      <td>DrDoS_DNS</td>\n",
              "    </tr>\n",
              "    <tr>\n",
              "      <th>1</th>\n",
              "      <td>11527</td>\n",
              "      <td>711</td>\n",
              "      <td>23076</td>\n",
              "      <td>17</td>\n",
              "      <td>2</td>\n",
              "      <td>2</td>\n",
              "      <td>2944</td>\n",
              "      <td>1472</td>\n",
              "      <td>1472</td>\n",
              "      <td>2208.0</td>\n",
              "      <td>1</td>\n",
              "      <td>32</td>\n",
              "      <td>DrDoS_DNS</td>\n",
              "    </tr>\n",
              "    <tr>\n",
              "      <th>2</th>\n",
              "      <td>19475</td>\n",
              "      <td>712</td>\n",
              "      <td>63593</td>\n",
              "      <td>17</td>\n",
              "      <td>1</td>\n",
              "      <td>2</td>\n",
              "      <td>2944</td>\n",
              "      <td>1472</td>\n",
              "      <td>1472</td>\n",
              "      <td>2208.0</td>\n",
              "      <td>1</td>\n",
              "      <td>32</td>\n",
              "      <td>DrDoS_DNS</td>\n",
              "    </tr>\n",
              "    <tr>\n",
              "      <th>3</th>\n",
              "      <td>17750</td>\n",
              "      <td>713</td>\n",
              "      <td>60908</td>\n",
              "      <td>17</td>\n",
              "      <td>2</td>\n",
              "      <td>2</td>\n",
              "      <td>2944</td>\n",
              "      <td>1472</td>\n",
              "      <td>1472</td>\n",
              "      <td>2208.0</td>\n",
              "      <td>1</td>\n",
              "      <td>32</td>\n",
              "      <td>DrDoS_DNS</td>\n",
              "    </tr>\n",
              "    <tr>\n",
              "      <th>4</th>\n",
              "      <td>26849</td>\n",
              "      <td>714</td>\n",
              "      <td>17757</td>\n",
              "      <td>17</td>\n",
              "      <td>1</td>\n",
              "      <td>2</td>\n",
              "      <td>2944</td>\n",
              "      <td>1472</td>\n",
              "      <td>1472</td>\n",
              "      <td>2208.0</td>\n",
              "      <td>1</td>\n",
              "      <td>32</td>\n",
              "      <td>DrDoS_DNS</td>\n",
              "    </tr>\n",
              "    <tr>\n",
              "      <th>...</th>\n",
              "      <td>...</td>\n",
              "      <td>...</td>\n",
              "      <td>...</td>\n",
              "      <td>...</td>\n",
              "      <td>...</td>\n",
              "      <td>...</td>\n",
              "      <td>...</td>\n",
              "      <td>...</td>\n",
              "      <td>...</td>\n",
              "      <td>...</td>\n",
              "      <td>...</td>\n",
              "      <td>...</td>\n",
              "      <td>...</td>\n",
              "    </tr>\n",
              "    <tr>\n",
              "      <th>3994</th>\n",
              "      <td>28562</td>\n",
              "      <td>714</td>\n",
              "      <td>55976</td>\n",
              "      <td>17</td>\n",
              "      <td>1</td>\n",
              "      <td>2</td>\n",
              "      <td>2944</td>\n",
              "      <td>1472</td>\n",
              "      <td>1472</td>\n",
              "      <td>2208.0</td>\n",
              "      <td>1</td>\n",
              "      <td>595</td>\n",
              "      <td>DrDoS_LDAP</td>\n",
              "    </tr>\n",
              "    <tr>\n",
              "      <th>3995</th>\n",
              "      <td>984</td>\n",
              "      <td>715</td>\n",
              "      <td>32474</td>\n",
              "      <td>17</td>\n",
              "      <td>2</td>\n",
              "      <td>2</td>\n",
              "      <td>2944</td>\n",
              "      <td>1472</td>\n",
              "      <td>1472</td>\n",
              "      <td>2208.0</td>\n",
              "      <td>1</td>\n",
              "      <td>595</td>\n",
              "      <td>DrDoS_LDAP</td>\n",
              "    </tr>\n",
              "    <tr>\n",
              "      <th>3996</th>\n",
              "      <td>10843</td>\n",
              "      <td>716</td>\n",
              "      <td>14574</td>\n",
              "      <td>17</td>\n",
              "      <td>1</td>\n",
              "      <td>2</td>\n",
              "      <td>2944</td>\n",
              "      <td>1472</td>\n",
              "      <td>1472</td>\n",
              "      <td>2208.0</td>\n",
              "      <td>1</td>\n",
              "      <td>595</td>\n",
              "      <td>DrDoS_LDAP</td>\n",
              "    </tr>\n",
              "    <tr>\n",
              "      <th>3997</th>\n",
              "      <td>29634</td>\n",
              "      <td>717</td>\n",
              "      <td>63039</td>\n",
              "      <td>17</td>\n",
              "      <td>1</td>\n",
              "      <td>2</td>\n",
              "      <td>2944</td>\n",
              "      <td>1472</td>\n",
              "      <td>1472</td>\n",
              "      <td>2208.0</td>\n",
              "      <td>1</td>\n",
              "      <td>595</td>\n",
              "      <td>DrDoS_LDAP</td>\n",
              "    </tr>\n",
              "    <tr>\n",
              "      <th>3998</th>\n",
              "      <td>7903</td>\n",
              "      <td>718</td>\n",
              "      <td>2242</td>\n",
              "      <td>17</td>\n",
              "      <td>1</td>\n",
              "      <td>2</td>\n",
              "      <td>2944</td>\n",
              "      <td>1472</td>\n",
              "      <td>1472</td>\n",
              "      <td>2208.0</td>\n",
              "      <td>1</td>\n",
              "      <td>595</td>\n",
              "      <td>DrDoS_LDAP</td>\n",
              "    </tr>\n",
              "  </tbody>\n",
              "</table>\n",
              "<p>3999 rows × 13 columns</p>\n",
              "</div>\n",
              "      <button class=\"colab-df-convert\" onclick=\"convertToInteractive('df-19ce594d-6364-4992-92f5-2258d37dc529')\"\n",
              "              title=\"Convert this dataframe to an interactive table.\"\n",
              "              style=\"display:none;\">\n",
              "        \n",
              "  <svg xmlns=\"http://www.w3.org/2000/svg\" height=\"24px\"viewBox=\"0 0 24 24\"\n",
              "       width=\"24px\">\n",
              "    <path d=\"M0 0h24v24H0V0z\" fill=\"none\"/>\n",
              "    <path d=\"M18.56 5.44l.94 2.06.94-2.06 2.06-.94-2.06-.94-.94-2.06-.94 2.06-2.06.94zm-11 1L8.5 8.5l.94-2.06 2.06-.94-2.06-.94L8.5 2.5l-.94 2.06-2.06.94zm10 10l.94 2.06.94-2.06 2.06-.94-2.06-.94-.94-2.06-.94 2.06-2.06.94z\"/><path d=\"M17.41 7.96l-1.37-1.37c-.4-.4-.92-.59-1.43-.59-.52 0-1.04.2-1.43.59L10.3 9.45l-7.72 7.72c-.78.78-.78 2.05 0 2.83L4 21.41c.39.39.9.59 1.41.59.51 0 1.02-.2 1.41-.59l7.78-7.78 2.81-2.81c.8-.78.8-2.07 0-2.86zM5.41 20L4 18.59l7.72-7.72 1.47 1.35L5.41 20z\"/>\n",
              "  </svg>\n",
              "      </button>\n",
              "      \n",
              "  <style>\n",
              "    .colab-df-container {\n",
              "      display:flex;\n",
              "      flex-wrap:wrap;\n",
              "      gap: 12px;\n",
              "    }\n",
              "\n",
              "    .colab-df-convert {\n",
              "      background-color: #E8F0FE;\n",
              "      border: none;\n",
              "      border-radius: 50%;\n",
              "      cursor: pointer;\n",
              "      display: none;\n",
              "      fill: #1967D2;\n",
              "      height: 32px;\n",
              "      padding: 0 0 0 0;\n",
              "      width: 32px;\n",
              "    }\n",
              "\n",
              "    .colab-df-convert:hover {\n",
              "      background-color: #E2EBFA;\n",
              "      box-shadow: 0px 1px 2px rgba(60, 64, 67, 0.3), 0px 1px 3px 1px rgba(60, 64, 67, 0.15);\n",
              "      fill: #174EA6;\n",
              "    }\n",
              "\n",
              "    [theme=dark] .colab-df-convert {\n",
              "      background-color: #3B4455;\n",
              "      fill: #D2E3FC;\n",
              "    }\n",
              "\n",
              "    [theme=dark] .colab-df-convert:hover {\n",
              "      background-color: #434B5C;\n",
              "      box-shadow: 0px 1px 3px 1px rgba(0, 0, 0, 0.15);\n",
              "      filter: drop-shadow(0px 1px 2px rgba(0, 0, 0, 0.3));\n",
              "      fill: #FFFFFF;\n",
              "    }\n",
              "  </style>\n",
              "\n",
              "      <script>\n",
              "        const buttonEl =\n",
              "          document.querySelector('#df-19ce594d-6364-4992-92f5-2258d37dc529 button.colab-df-convert');\n",
              "        buttonEl.style.display =\n",
              "          google.colab.kernel.accessAllowed ? 'block' : 'none';\n",
              "\n",
              "        async function convertToInteractive(key) {\n",
              "          const element = document.querySelector('#df-19ce594d-6364-4992-92f5-2258d37dc529');\n",
              "          const dataTable =\n",
              "            await google.colab.kernel.invokeFunction('convertToInteractive',\n",
              "                                                     [key], {});\n",
              "          if (!dataTable) return;\n",
              "\n",
              "          const docLinkHtml = 'Like what you see? Visit the ' +\n",
              "            '<a target=\"_blank\" href=https://colab.research.google.com/notebooks/data_table.ipynb>data table notebook</a>'\n",
              "            + ' to learn more about interactive tables.';\n",
              "          element.innerHTML = '';\n",
              "          dataTable['output_type'] = 'display_data';\n",
              "          await google.colab.output.renderOutput(dataTable, element);\n",
              "          const docLink = document.createElement('div');\n",
              "          docLink.innerHTML = docLinkHtml;\n",
              "          element.appendChild(docLink);\n",
              "        }\n",
              "      </script>\n",
              "    </div>\n",
              "  </div>\n",
              "  "
            ]
          },
          "metadata": {},
          "execution_count": 3
        }
      ]
    },
    {
      "cell_type": "markdown",
      "source": [
        "Converting categorical value into numerical value"
      ],
      "metadata": {
        "id": "BjJSgPIXGQWU"
      }
    },
    {
      "cell_type": "code",
      "execution_count": null,
      "metadata": {
        "colab": {
          "base_uri": "https://localhost:8080/"
        },
        "id": "uGLNxl0YbtFM",
        "outputId": "7a9d7d5e-778e-41ce-841a-08ddaf89c946"
      },
      "outputs": [
        {
          "output_type": "stream",
          "name": "stdout",
          "text": [
            "      Unnamed: 0   Source Port   Destination Port   Protocol   Flow Duration  \\\n",
            "0            534           710              63567         17               2   \n",
            "1          11527           711              23076         17               2   \n",
            "2          19475           712              63593         17               1   \n",
            "3          17750           713              60908         17               2   \n",
            "4          26849           714              17757         17               1   \n",
            "...          ...           ...                ...        ...             ...   \n",
            "3994       28562           714              55976         17               1   \n",
            "3995         984           715              32474         17               2   \n",
            "3996       10843           716              14574         17               1   \n",
            "3997       29634           717              63039         17               1   \n",
            "3998        7903           718               2242         17               1   \n",
            "\n",
            "       Total Fwd Packets  Total Length of Fwd Packets   Min Packet Length  \\\n",
            "0                      2                         1136                 568   \n",
            "1                      2                         2944                1472   \n",
            "2                      2                         2944                1472   \n",
            "3                      2                         2944                1472   \n",
            "4                      2                         2944                1472   \n",
            "...                  ...                          ...                 ...   \n",
            "3994                   2                         2944                1472   \n",
            "3995                   2                         2944                1472   \n",
            "3996                   2                         2944                1472   \n",
            "3997                   2                         2944                1472   \n",
            "3998                   2                         2944                1472   \n",
            "\n",
            "       Max Packet Length   Average Packet Size   act_data_pkt_fwd  \\\n",
            "0                    568                 852.0                  1   \n",
            "1                   1472                2208.0                  1   \n",
            "2                   1472                2208.0                  1   \n",
            "3                   1472                2208.0                  1   \n",
            "4                   1472                2208.0                  1   \n",
            "...                  ...                   ...                ...   \n",
            "3994                1472                2208.0                  1   \n",
            "3995                1472                2208.0                  1   \n",
            "3996                1472                2208.0                  1   \n",
            "3997                1472                2208.0                  1   \n",
            "3998                1472                2208.0                  1   \n",
            "\n",
            "       min_seg_size_forward  Attack_type  \n",
            "0                        32            1  \n",
            "1                        32            1  \n",
            "2                        32            1  \n",
            "3                        32            1  \n",
            "4                        32            1  \n",
            "...                     ...          ...  \n",
            "3994                    595            2  \n",
            "3995                    595            2  \n",
            "3996                    595            2  \n",
            "3997                    595            2  \n",
            "3998                    595            2  \n",
            "\n",
            "[3999 rows x 13 columns]\n"
          ]
        }
      ],
      "source": [
        "var['Attack_type'].replace({'DrDoS_DNS':1, 'DrDoS_LDAP':2, 'BENIGN':3}, inplace=True)\n",
        "print(var)"
      ]
    },
    {
      "cell_type": "markdown",
      "source": [
        "Splitting training and testing data"
      ],
      "metadata": {
        "id": "dmXMlXoLIAPW"
      }
    },
    {
      "cell_type": "code",
      "source": [
        "x = var.iloc[:,:-1]\n",
        "y = var.iloc[:,-1].values"
      ],
      "metadata": {
        "id": "OTTL2t-nDKs5"
      },
      "execution_count": null,
      "outputs": []
    },
    {
      "cell_type": "code",
      "source": [
        "from sklearn.preprocessing import LabelEncoder"
      ],
      "metadata": {
        "id": "Yn9kIMyaDQ3Y"
      },
      "execution_count": null,
      "outputs": []
    },
    {
      "cell_type": "code",
      "source": [
        "labelencoder_x=LabelEncoder()\n",
        "x = x.apply(LabelEncoder().fit_transform)"
      ],
      "metadata": {
        "id": "HncCbkEvDUuv"
      },
      "execution_count": null,
      "outputs": []
    },
    {
      "cell_type": "code",
      "source": [
        "from sklearn.model_selection import train_test_split"
      ],
      "metadata": {
        "id": "FEoQE4r8DXP-"
      },
      "execution_count": null,
      "outputs": []
    },
    {
      "cell_type": "code",
      "source": [
        "x_train, x_test, y_train, y_test = train_test_split(x, y, test_size=0.30, random_state=0)"
      ],
      "metadata": {
        "id": "8zU7cjFNDbC5"
      },
      "execution_count": null,
      "outputs": []
    },
    {
      "cell_type": "markdown",
      "source": [
        "Bagging"
      ],
      "metadata": {
        "id": "3300a9eiGfGH"
      }
    },
    {
      "cell_type": "code",
      "source": [
        "from sklearn.tree import DecisionTreeClassifier\n",
        "from sklearn.ensemble import BaggingClassifier"
      ],
      "metadata": {
        "id": "t5zqtt0lDdr2"
      },
      "execution_count": null,
      "outputs": []
    },
    {
      "cell_type": "code",
      "source": [
        "tree = DecisionTreeClassifier(max_depth=3, random_state=23)"
      ],
      "metadata": {
        "id": "0I-RXAC5DlMu"
      },
      "execution_count": null,
      "outputs": []
    },
    {
      "cell_type": "code",
      "source": [
        "bagging = BaggingClassifier(base_estimator=tree, n_estimators=5, max_samples=50, bootstrap=True)"
      ],
      "metadata": {
        "id": "bBaRK1FTDocI"
      },
      "execution_count": null,
      "outputs": []
    },
    {
      "cell_type": "markdown",
      "source": [
        "Training a Bagging Ensembling Model"
      ],
      "metadata": {
        "id": "PIaAolA3FgxG"
      }
    },
    {
      "cell_type": "code",
      "source": [
        "bagging.fit(x_train, y_train)"
      ],
      "metadata": {
        "colab": {
          "base_uri": "https://localhost:8080/",
          "height": 172
        },
        "id": "6GAkw4_HDrYm",
        "outputId": "b59ae858-6026-4ffd-c38a-e0eb752a9e6e"
      },
      "execution_count": null,
      "outputs": [
        {
          "output_type": "stream",
          "name": "stderr",
          "text": [
            "/usr/local/lib/python3.9/dist-packages/sklearn/ensemble/_base.py:166: FutureWarning: `base_estimator` was renamed to `estimator` in version 1.2 and will be removed in 1.4.\n",
            "  warnings.warn(\n"
          ]
        },
        {
          "output_type": "execute_result",
          "data": {
            "text/plain": [
              "BaggingClassifier(base_estimator=DecisionTreeClassifier(max_depth=3,\n",
              "                                                        random_state=23),\n",
              "                  max_samples=50, n_estimators=5)"
            ],
            "text/html": [
              "<style>#sk-container-id-1 {color: black;background-color: white;}#sk-container-id-1 pre{padding: 0;}#sk-container-id-1 div.sk-toggleable {background-color: white;}#sk-container-id-1 label.sk-toggleable__label {cursor: pointer;display: block;width: 100%;margin-bottom: 0;padding: 0.3em;box-sizing: border-box;text-align: center;}#sk-container-id-1 label.sk-toggleable__label-arrow:before {content: \"▸\";float: left;margin-right: 0.25em;color: #696969;}#sk-container-id-1 label.sk-toggleable__label-arrow:hover:before {color: black;}#sk-container-id-1 div.sk-estimator:hover label.sk-toggleable__label-arrow:before {color: black;}#sk-container-id-1 div.sk-toggleable__content {max-height: 0;max-width: 0;overflow: hidden;text-align: left;background-color: #f0f8ff;}#sk-container-id-1 div.sk-toggleable__content pre {margin: 0.2em;color: black;border-radius: 0.25em;background-color: #f0f8ff;}#sk-container-id-1 input.sk-toggleable__control:checked~div.sk-toggleable__content {max-height: 200px;max-width: 100%;overflow: auto;}#sk-container-id-1 input.sk-toggleable__control:checked~label.sk-toggleable__label-arrow:before {content: \"▾\";}#sk-container-id-1 div.sk-estimator input.sk-toggleable__control:checked~label.sk-toggleable__label {background-color: #d4ebff;}#sk-container-id-1 div.sk-label input.sk-toggleable__control:checked~label.sk-toggleable__label {background-color: #d4ebff;}#sk-container-id-1 input.sk-hidden--visually {border: 0;clip: rect(1px 1px 1px 1px);clip: rect(1px, 1px, 1px, 1px);height: 1px;margin: -1px;overflow: hidden;padding: 0;position: absolute;width: 1px;}#sk-container-id-1 div.sk-estimator {font-family: monospace;background-color: #f0f8ff;border: 1px dotted black;border-radius: 0.25em;box-sizing: border-box;margin-bottom: 0.5em;}#sk-container-id-1 div.sk-estimator:hover {background-color: #d4ebff;}#sk-container-id-1 div.sk-parallel-item::after {content: \"\";width: 100%;border-bottom: 1px solid gray;flex-grow: 1;}#sk-container-id-1 div.sk-label:hover label.sk-toggleable__label {background-color: #d4ebff;}#sk-container-id-1 div.sk-serial::before {content: \"\";position: absolute;border-left: 1px solid gray;box-sizing: border-box;top: 0;bottom: 0;left: 50%;z-index: 0;}#sk-container-id-1 div.sk-serial {display: flex;flex-direction: column;align-items: center;background-color: white;padding-right: 0.2em;padding-left: 0.2em;position: relative;}#sk-container-id-1 div.sk-item {position: relative;z-index: 1;}#sk-container-id-1 div.sk-parallel {display: flex;align-items: stretch;justify-content: center;background-color: white;position: relative;}#sk-container-id-1 div.sk-item::before, #sk-container-id-1 div.sk-parallel-item::before {content: \"\";position: absolute;border-left: 1px solid gray;box-sizing: border-box;top: 0;bottom: 0;left: 50%;z-index: -1;}#sk-container-id-1 div.sk-parallel-item {display: flex;flex-direction: column;z-index: 1;position: relative;background-color: white;}#sk-container-id-1 div.sk-parallel-item:first-child::after {align-self: flex-end;width: 50%;}#sk-container-id-1 div.sk-parallel-item:last-child::after {align-self: flex-start;width: 50%;}#sk-container-id-1 div.sk-parallel-item:only-child::after {width: 0;}#sk-container-id-1 div.sk-dashed-wrapped {border: 1px dashed gray;margin: 0 0.4em 0.5em 0.4em;box-sizing: border-box;padding-bottom: 0.4em;background-color: white;}#sk-container-id-1 div.sk-label label {font-family: monospace;font-weight: bold;display: inline-block;line-height: 1.2em;}#sk-container-id-1 div.sk-label-container {text-align: center;}#sk-container-id-1 div.sk-container {/* jupyter's `normalize.less` sets `[hidden] { display: none; }` but bootstrap.min.css set `[hidden] { display: none !important; }` so we also need the `!important` here to be able to override the default hidden behavior on the sphinx rendered scikit-learn.org. See: https://github.com/scikit-learn/scikit-learn/issues/21755 */display: inline-block !important;position: relative;}#sk-container-id-1 div.sk-text-repr-fallback {display: none;}</style><div id=\"sk-container-id-1\" class=\"sk-top-container\"><div class=\"sk-text-repr-fallback\"><pre>BaggingClassifier(base_estimator=DecisionTreeClassifier(max_depth=3,\n",
              "                                                        random_state=23),\n",
              "                  max_samples=50, n_estimators=5)</pre><b>In a Jupyter environment, please rerun this cell to show the HTML representation or trust the notebook. <br />On GitHub, the HTML representation is unable to render, please try loading this page with nbviewer.org.</b></div><div class=\"sk-container\" hidden><div class=\"sk-item sk-dashed-wrapped\"><div class=\"sk-label-container\"><div class=\"sk-label sk-toggleable\"><input class=\"sk-toggleable__control sk-hidden--visually\" id=\"sk-estimator-id-1\" type=\"checkbox\" ><label for=\"sk-estimator-id-1\" class=\"sk-toggleable__label sk-toggleable__label-arrow\">BaggingClassifier</label><div class=\"sk-toggleable__content\"><pre>BaggingClassifier(base_estimator=DecisionTreeClassifier(max_depth=3,\n",
              "                                                        random_state=23),\n",
              "                  max_samples=50, n_estimators=5)</pre></div></div></div><div class=\"sk-parallel\"><div class=\"sk-parallel-item\"><div class=\"sk-item\"><div class=\"sk-label-container\"><div class=\"sk-label sk-toggleable\"><input class=\"sk-toggleable__control sk-hidden--visually\" id=\"sk-estimator-id-2\" type=\"checkbox\" ><label for=\"sk-estimator-id-2\" class=\"sk-toggleable__label sk-toggleable__label-arrow\">base_estimator: DecisionTreeClassifier</label><div class=\"sk-toggleable__content\"><pre>DecisionTreeClassifier(max_depth=3, random_state=23)</pre></div></div></div><div class=\"sk-serial\"><div class=\"sk-item\"><div class=\"sk-estimator sk-toggleable\"><input class=\"sk-toggleable__control sk-hidden--visually\" id=\"sk-estimator-id-3\" type=\"checkbox\" ><label for=\"sk-estimator-id-3\" class=\"sk-toggleable__label sk-toggleable__label-arrow\">DecisionTreeClassifier</label><div class=\"sk-toggleable__content\"><pre>DecisionTreeClassifier(max_depth=3, random_state=23)</pre></div></div></div></div></div></div></div></div></div></div>"
            ]
          },
          "metadata": {},
          "execution_count": 14
        }
      ]
    },
    {
      "cell_type": "markdown",
      "source": [
        "Making prediction"
      ],
      "metadata": {
        "id": "tO2Tbo_YGkqu"
      }
    },
    {
      "cell_type": "code",
      "source": [
        "p=bagging.predict(x_test)"
      ],
      "metadata": {
        "id": "oj3SDyvoDyVH"
      },
      "execution_count": null,
      "outputs": []
    },
    {
      "cell_type": "code",
      "source": [
        "from sklearn.metrics import accuracy_score,confusion_matrix,classification_report"
      ],
      "metadata": {
        "id": "gIomTrwHECyt"
      },
      "execution_count": null,
      "outputs": []
    },
    {
      "cell_type": "markdown",
      "source": [
        "Evaluating model"
      ],
      "metadata": {
        "id": "YM-0WwV9ImdV"
      }
    },
    {
      "cell_type": "code",
      "source": [
        "print(\"\\nAccuarcy_score : {:.2f} %\".format(accuracy_score(y_test, p)*100))"
      ],
      "metadata": {
        "colab": {
          "base_uri": "https://localhost:8080/"
        },
        "id": "PNtsKzRFD3T-",
        "outputId": "0c4d5a13-116f-4892-dfaf-d49417cd00cc"
      },
      "execution_count": null,
      "outputs": [
        {
          "output_type": "stream",
          "name": "stdout",
          "text": [
            "\n",
            "Accuarcy_score : 89.75 %\n"
          ]
        }
      ]
    },
    {
      "cell_type": "code",
      "source": [
        "print(\"Classification report :\\n\",classification_report(y_test, p))"
      ],
      "metadata": {
        "colab": {
          "base_uri": "https://localhost:8080/"
        },
        "id": "xbcb9uYLEza9",
        "outputId": "b7bb51bf-33ff-4645-abdd-a035688fde96"
      },
      "execution_count": null,
      "outputs": [
        {
          "output_type": "stream",
          "name": "stdout",
          "text": [
            "Classification report :\n",
            "               precision    recall  f1-score   support\n",
            "\n",
            "           1       0.91      0.98      0.94      1068\n",
            "           2       0.58      0.24      0.34       131\n",
            "           3       0.00      0.00      0.00         1\n",
            "\n",
            "    accuracy                           0.90      1200\n",
            "   macro avg       0.50      0.41      0.43      1200\n",
            "weighted avg       0.88      0.90      0.88      1200\n",
            "\n"
          ]
        },
        {
          "output_type": "stream",
          "name": "stderr",
          "text": [
            "/usr/local/lib/python3.9/dist-packages/sklearn/metrics/_classification.py:1344: UndefinedMetricWarning: Precision and F-score are ill-defined and being set to 0.0 in labels with no predicted samples. Use `zero_division` parameter to control this behavior.\n",
            "  _warn_prf(average, modifier, msg_start, len(result))\n",
            "/usr/local/lib/python3.9/dist-packages/sklearn/metrics/_classification.py:1344: UndefinedMetricWarning: Precision and F-score are ill-defined and being set to 0.0 in labels with no predicted samples. Use `zero_division` parameter to control this behavior.\n",
            "  _warn_prf(average, modifier, msg_start, len(result))\n",
            "/usr/local/lib/python3.9/dist-packages/sklearn/metrics/_classification.py:1344: UndefinedMetricWarning: Precision and F-score are ill-defined and being set to 0.0 in labels with no predicted samples. Use `zero_division` parameter to control this behavior.\n",
            "  _warn_prf(average, modifier, msg_start, len(result))\n"
          ]
        }
      ]
    },
    {
      "cell_type": "code",
      "source": [
        "print(\"Confusion Matrix :\\n\",confusion_matrix(y_test, p))"
      ],
      "metadata": {
        "colab": {
          "base_uri": "https://localhost:8080/"
        },
        "id": "9SJ-Sro5FDbe",
        "outputId": "2c3691fe-9467-477f-b59d-acdf86a0330f"
      },
      "execution_count": null,
      "outputs": [
        {
          "output_type": "stream",
          "name": "stdout",
          "text": [
            "Confusion Matrix :\n",
            " [[1046   22    0]\n",
            " [ 100   31    0]\n",
            " [   1    0    0]]\n"
          ]
        }
      ]
    }
  ]
}